{
 "cells": [
  {
   "cell_type": "code",
   "execution_count": 3,
   "id": "aa8a7564",
   "metadata": {},
   "outputs": [
    {
     "name": "stdout",
     "output_type": "stream",
     "text": [
      "Plz Enter 1st Number : 30\n",
      "Plz Enter 2nd Number : 20\n",
      "Plz Enter 3rd Number : 50\n",
      "Max =  50\n"
     ]
    }
   ],
   "source": [
    "def max_two_numbers(num1,num2) :\n",
    "    if (num1>num2) :\n",
    "        return (num1)\n",
    "    else : \n",
    "        return (num2)\n",
    "    \n",
    "def max_three_numbers(num1,num2,num3) :\n",
    "    m = max_two_numbers(num1,num2)\n",
    "    fin = max_two_numbers(m,num3)\n",
    "    return (fin)\n",
    "\n",
    "num1 = input (\"Plz Enter 1st Number : \")\n",
    "num2 = input (\"Plz Enter 2nd Number : \")\n",
    "num3 = input (\"Plz Enter 3rd Number : \")\n",
    "\n",
    "res = max_three_numbers(num1,num2,num3)\n",
    "\n",
    "print(\"Max = \" , res)\n"
   ]
  },
  {
   "cell_type": "code",
   "execution_count": 7,
   "id": "cb054edf",
   "metadata": {},
   "outputs": [
    {
     "name": "stdout",
     "output_type": "stream",
     "text": [
      "[1, 2, 3, 4, 6, 8, 9, 11, 15, 20, 25, 30, 35, 50]\n"
     ]
    }
   ],
   "source": [
    "def uniqueList(NonUnique):\n",
    "    res =[]\n",
    "    for n in NonUnique :\n",
    "        if n not in res :\n",
    "            res.append(n)\n",
    "    return (res)\n",
    "        \n",
    "Numbers = [1,2,2,3,4,6,8,8,9,9,9,11,15,20,25,25,25,30,35,50]\n",
    "MS =uniqueList(Numbers)\n",
    "print(MS)\n",
    "    "
   ]
  }
 ],
 "metadata": {
  "kernelspec": {
   "display_name": "Python 3 (ipykernel)",
   "language": "python",
   "name": "python3"
  },
  "language_info": {
   "codemirror_mode": {
    "name": "ipython",
    "version": 3
   },
   "file_extension": ".py",
   "mimetype": "text/x-python",
   "name": "python",
   "nbconvert_exporter": "python",
   "pygments_lexer": "ipython3",
   "version": "3.8.12"
  }
 },
 "nbformat": 4,
 "nbformat_minor": 5
}
