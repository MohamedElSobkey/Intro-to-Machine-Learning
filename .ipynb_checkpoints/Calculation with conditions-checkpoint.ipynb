{
 "cells": [
  {
   "cell_type": "code",
   "execution_count": 5,
   "id": "7221203c",
   "metadata": {},
   "outputs": [
    {
     "name": "stdout",
     "output_type": "stream",
     "text": [
      "Plz Enter 1st Number : 3\n",
      "Plz Enter 2nd Number : 9\n",
      "Plz Enter Operation : X\n",
      "MUL :  27.0\n"
     ]
    }
   ],
   "source": [
    "#Read 1st Number\n",
    "\n",
    "Num1 = input (\"Plz Enter 1st Number : \")\n",
    "\n",
    "#Read 2nd Number\n",
    "\n",
    "Num2 = input (\"Plz Enter 2nd Number : \")\n",
    "\n",
    "#Read Operation\n",
    "OP = input (\"Plz Enter Operation : \")\n",
    "\n",
    "\n",
    "\n",
    "#Convert Operands  to Numbers\n",
    "\n",
    "Num1 = float (Num1)\n",
    "\n",
    "Num2 = float (Num2)\n",
    "\n",
    "\n",
    "\n",
    "#Comparison\n",
    "\n",
    "if OP == '+' :\n",
    "    res = Num1 + Num2\n",
    "    print('SUM : ' , res)\n",
    "    \n",
    "elif OP == '-' :\n",
    "    res = Num1 - Num2\n",
    "    print('SUB : ' , res)  \n",
    "\n",
    "elif OP == '*' or OP =='X' or OP == 'X':\n",
    "    res = Num1 * Num2\n",
    "    print('MUL : ' , res)      \n",
    "    \n",
    "elif OP == '/' or OP =='\\\\' :\n",
    "    res = Num1 / Num2\n",
    "    print('DIV : ' , res)    \n",
    "    "
   ]
  }
 ],
 "metadata": {
  "kernelspec": {
   "display_name": "Python 3 (ipykernel)",
   "language": "python",
   "name": "python3"
  },
  "language_info": {
   "codemirror_mode": {
    "name": "ipython",
    "version": 3
   },
   "file_extension": ".py",
   "mimetype": "text/x-python",
   "name": "python",
   "nbconvert_exporter": "python",
   "pygments_lexer": "ipython3",
   "version": "3.8.12"
  }
 },
 "nbformat": 4,
 "nbformat_minor": 5
}
